{
  "cells": [
    {
      "cell_type": "code",
      "execution_count": 1,
      "metadata": {
        "id": "vLZFp4oGUjUH"
      },
      "outputs": [],
      "source": [
        "%%capture --no-stderr\n",
        "%pip install --upgrade --quiet  langchain langchain-community langchainhub langchain-chroma beautifulsoup4\n",
        "!pip install -q langchain_google_genai"
      ]
    },
    {
      "cell_type": "code",
      "execution_count": 2,
      "metadata": {
        "id": "fPIeMNxtUqKP"
      },
      "outputs": [],
      "source": [
        "import os\n",
        "os.environ[\"LANGCHAIN_TRACING_V2\"] = \"true\"\n",
        "os.environ[\"LANGCHAIN_API_KEY\"] = \"\"\n",
        "os.environ[\"LANGCHAIN_ENDPOINT\"] = \"https://api.smith.langchain.com\"\n",
        "os.environ[\"LANGCHAIN_PROJECT\"] = \"RAG_With_Memory\"\n",
        "os.environ[\"GOOGLE_API_KEY\"] = \"\""
      ]
    },
    {
      "cell_type": "code",
      "execution_count": 3,
      "metadata": {
        "id": "PVwGmq9XbYXH"
      },
      "outputs": [],
      "source": [
        "import warnings\n",
        "warnings.filterwarnings('ignore')"
      ]
    },
    {
      "cell_type": "code",
      "execution_count": 4,
      "metadata": {
        "id": "hYglAuvmbh7b"
      },
      "outputs": [],
      "source": [
        "from langchain_google_genai import GoogleGenerativeAIEmbeddings\n",
        "gemini_embeddings = GoogleGenerativeAIEmbeddings(model=\"models/embedding-001\")"
      ]
    },
    {
      "cell_type": "code",
      "execution_count": 57,
      "metadata": {
        "colab": {
          "base_uri": "https://localhost:8080/",
          "height": 0
        },
        "id": "Q-VdFF-XpS-f",
        "outputId": "cb1dbcec-ffd3-4939-c8a4-95f625503db3"
      },
      "outputs": [
        {
          "data": {
            "text/plain": [
              "GoogleGenerativeAIEmbeddings(client=<google.ai.generativelanguage_v1beta.services.generative_service.client.GenerativeServiceClient object at 0x7ac8dda76770>, model='models/embedding-001', task_type=None, google_api_key=SecretStr('**********'), credentials=None, client_options=None, transport=None, request_options=None)"
            ]
          },
          "execution_count": 57,
          "metadata": {},
          "output_type": "execute_result"
        }
      ],
      "source": [
        "gemini_embeddings"
      ]
    },
    {
      "cell_type": "code",
      "execution_count": 5,
      "metadata": {
        "id": "I3D7dUaybh34"
      },
      "outputs": [],
      "source": [
        "from langchain_google_genai import ChatGoogleGenerativeAI\n",
        "model = ChatGoogleGenerativeAI(model=\"gemini-1.0-pro\",convert_system_message_to_human=True)"
      ]
    },
    {
      "cell_type": "code",
      "execution_count": 6,
      "metadata": {
        "colab": {
          "base_uri": "https://localhost:8080/",
          "height": 0
        },
        "id": "fJYXTPXEbh1N",
        "outputId": "79d4546f-c1c3-4bac-feab-f6526f73a595"
      },
      "outputs": [
        {
          "name": "stdout",
          "output_type": "stream",
          "text": [
            "Hello! How can I help you today?\n"
          ]
        }
      ],
      "source": [
        "print(model.invoke(\"hi\").content)"
      ]
    },
    {
      "cell_type": "code",
      "execution_count": 7,
      "metadata": {
        "colab": {
          "base_uri": "https://localhost:8080/",
          "height": 0
        },
        "id": "hZJwNf9zcdCJ",
        "outputId": "90ca1d42-d474-44e3-df46-3c0504fac95f"
      },
      "outputs": [
        {
          "name": "stdout",
          "output_type": "stream",
          "text": [
            "Collecting pypdf\n",
            "  Downloading pypdf-5.0.1-py3-none-any.whl.metadata (7.4 kB)\n",
            "Requirement already satisfied: typing_extensions>=4.0 in /usr/local/lib/python3.10/dist-packages (from pypdf) (4.12.2)\n",
            "Downloading pypdf-5.0.1-py3-none-any.whl (294 kB)\n",
            "\u001b[2K   \u001b[90m━━━━━━━━━━━━━━━━━━━━━━━━━━━━━━━━━━━━━━━━\u001b[0m \u001b[32m294.5/294.5 kB\u001b[0m \u001b[31m4.5 MB/s\u001b[0m eta \u001b[36m0:00:00\u001b[0m\n",
            "\u001b[?25hInstalling collected packages: pypdf\n",
            "Successfully installed pypdf-5.0.1\n"
          ]
        }
      ],
      "source": [
        "pip install pypdf"
      ]
    },
    {
      "cell_type": "code",
      "execution_count": 8,
      "metadata": {
        "id": "1uSIU8wGgIq4"
      },
      "outputs": [],
      "source": [
        "from langchain_chroma import Chroma\n",
        "from langchain.chains.combine_documents import create_stuff_documents_chain\n",
        "from langchain.chains import create_retrieval_chain\n",
        "from langchain_core.prompts import ChatPromptTemplate\n",
        "from langchain_core.prompts import MessagesPlaceholder\n",
        "from langchain_text_splitters import RecursiveCharacterTextSplitter"
      ]
    },
    {
      "cell_type": "code",
      "execution_count": 9,
      "metadata": {
        "id": "r4QUsCuCnEWI"
      },
      "outputs": [],
      "source": [
        "from langchain_community.document_loaders import PyPDFLoader\n",
        "from langchain_community.chat_message_histories import ChatMessageHistory\n",
        "from langchain_core.chat_history import BaseChatMessageHistory\n",
        "from langchain_core.runnables.history import RunnableWithMessageHistory"
      ]
    },
    {
      "cell_type": "code",
      "execution_count": 10,
      "metadata": {
        "id": "Z6SnYbLknSFt"
      },
      "outputs": [],
      "source": [
        "loader = PyPDFLoader(\"/content/Criminal_law_pdf.pdf\")\n",
        "doc = loader.load_and_split()"
      ]
    },
    {
      "cell_type": "code",
      "execution_count": 11,
      "metadata": {
        "colab": {
          "base_uri": "https://localhost:8080/",
          "height": 53
        },
        "id": "eQEHfMFNcdE_",
        "outputId": "dd88ea67-1745-492b-ecec-c668eb2cb5a1"
      },
      "outputs": [
        {
          "data": {
            "application/vnd.google.colaboratory.intrinsic+json": {
              "type": "string"
            },
            "text/plain": [
              "'from langchain_community.document_loaders import PyPDFLoader,DirectoryLoader\\nDATASET=\\'/content/dataset/\\'\\nloader = DirectoryLoader(DATASET, glob=\"*.pdf\", loader_cls=PyPDFLoader)\\ndoc = loader.load()'"
            ]
          },
          "execution_count": 11,
          "metadata": {},
          "output_type": "execute_result"
        }
      ],
      "source": [
        "'''from langchain_community.document_loaders import PyPDFLoader,DirectoryLoader\n",
        "DATASET='/content/dataset/'\n",
        "loader = DirectoryLoader(DATASET, glob=\"*.pdf\", loader_cls=PyPDFLoader)\n",
        "doc = loader.load()'''"
      ]
    },
    {
      "cell_type": "code",
      "execution_count": 12,
      "metadata": {
        "colab": {
          "base_uri": "https://localhost:8080/",
          "height": 0
        },
        "id": "kZD_IkvPcdHL",
        "outputId": "80add750-d02a-41e1-ea5b-5a0223b8f43a"
      },
      "outputs": [
        {
          "data": {
            "text/plain": [
              "175"
            ]
          },
          "execution_count": 12,
          "metadata": {},
          "output_type": "execute_result"
        }
      ],
      "source": [
        "len(doc)"
      ]
    },
    {
      "cell_type": "code",
      "execution_count": 13,
      "metadata": {
        "id": "wCvd56RAc5N6"
      },
      "outputs": [],
      "source": [
        "text_splitter = RecursiveCharacterTextSplitter(chunk_size=800, chunk_overlap=200)\n",
        "splits = text_splitter.split_documents(doc)"
      ]
    },
    {
      "cell_type": "code",
      "execution_count": 14,
      "metadata": {
        "colab": {
          "base_uri": "https://localhost:8080/",
          "height": 0
        },
        "id": "nGIwk5E1m3ZR",
        "outputId": "562f13a1-ff8c-4edb-d985-e32c52d78391"
      },
      "outputs": [
        {
          "name": "stdout",
          "output_type": "stream",
          "text": [
            "Collecting faiss-cpu\n",
            "  Downloading faiss_cpu-1.9.0-cp310-cp310-manylinux_2_17_x86_64.manylinux2014_x86_64.whl.metadata (4.4 kB)\n",
            "Requirement already satisfied: numpy<3.0,>=1.25.0 in /usr/local/lib/python3.10/dist-packages (from faiss-cpu) (1.26.4)\n",
            "Requirement already satisfied: packaging in /usr/local/lib/python3.10/dist-packages (from faiss-cpu) (24.1)\n",
            "Downloading faiss_cpu-1.9.0-cp310-cp310-manylinux_2_17_x86_64.manylinux2014_x86_64.whl (27.5 MB)\n",
            "\u001b[2K   \u001b[90m━━━━━━━━━━━━━━━━━━━━━━━━━━━━━━━━━━━━━━━━\u001b[0m \u001b[32m27.5/27.5 MB\u001b[0m \u001b[31m31.4 MB/s\u001b[0m eta \u001b[36m0:00:00\u001b[0m\n",
            "\u001b[?25hInstalling collected packages: faiss-cpu\n",
            "Successfully installed faiss-cpu-1.9.0\n"
          ]
        }
      ],
      "source": [
        "!pip install faiss-cpu"
      ]
    },
    {
      "cell_type": "code",
      "execution_count": 15,
      "metadata": {
        "id": "iwmX-WCXPscG"
      },
      "outputs": [],
      "source": [
        "from langchain.vectorstores import FAISS"
      ]
    },
    {
      "cell_type": "code",
      "execution_count": 16,
      "metadata": {
        "id": "PgmLTsYPPhpw"
      },
      "outputs": [],
      "source": [
        "FAISS_INDEX = \"/content/vectorstore/\"\n",
        "vectorstore = FAISS.from_documents(splits, gemini_embeddings)\n",
        "vectorstore.save_local(FAISS_INDEX)"
      ]
    },
    {
      "cell_type": "code",
      "execution_count": 17,
      "metadata": {
        "id": "fMLhHhqdPzjE"
      },
      "outputs": [],
      "source": [
        "FAISS_INDEX = \"/content/vectorstore/\"\n",
        "vectorstore= FAISS.load_local(FAISS_INDEX, gemini_embeddings,allow_dangerous_deserialization=True)\n",
        "retriever = vectorstore.as_retriever()"
      ]
    },
    {
      "cell_type": "code",
      "execution_count": 18,
      "metadata": {
        "id": "yG18DGUxc5LV"
      },
      "outputs": [],
      "source": [
        "retriever = vectorstore.as_retriever()"
      ]
    },
    {
      "cell_type": "code",
      "execution_count": 19,
      "metadata": {
        "colab": {
          "base_uri": "https://localhost:8080/",
          "height": 0
        },
        "id": "a6cO1hkHc5Iy",
        "outputId": "f4511017-2369-4fe3-bd11-0ee6b9fab820"
      },
      "outputs": [
        {
          "data": {
            "text/plain": [
              "VectorStoreRetriever(tags=['FAISS', 'GoogleGenerativeAIEmbeddings'], vectorstore=<langchain_community.vectorstores.faiss.FAISS object at 0x7ac90b3b9f00>, search_kwargs={})"
            ]
          },
          "execution_count": 19,
          "metadata": {},
          "output_type": "execute_result"
        }
      ],
      "source": [
        "retriever"
      ]
    },
    {
      "cell_type": "code",
      "execution_count": 20,
      "metadata": {
        "id": "tY5efK6Lc5F-"
      },
      "outputs": [],
      "source": [
        "system_prompt = (\n",
        "    \"You are an assistant for question-answering tasks. \"\n",
        "    \"Use the following pieces of retrieved context to answer the question \"\n",
        "    \"If you don't know the answer, say that you don't know.\"\n",
        "    \"Use three sentences maximum and keep the answer concise.\"\n",
        "    \"\\n\\n\"\n",
        "    \"{context}\"\n",
        ")"
      ]
    },
    {
      "cell_type": "code",
      "execution_count": 21,
      "metadata": {
        "id": "sQBMg-GPc5DF"
      },
      "outputs": [],
      "source": [
        "chat_prompt = ChatPromptTemplate.from_messages(\n",
        "    [\n",
        "        (\"system\", system_prompt),\n",
        "        (\"human\", \"{input}\"),\n",
        "    ]\n",
        ")"
      ]
    },
    {
      "cell_type": "code",
      "execution_count": 22,
      "metadata": {
        "id": "58KvD7rrc5AW"
      },
      "outputs": [],
      "source": [
        "question_answering_chain=create_stuff_documents_chain(model, chat_prompt)"
      ]
    },
    {
      "cell_type": "code",
      "execution_count": 23,
      "metadata": {
        "id": "xe20dXSXc49w"
      },
      "outputs": [],
      "source": [
        "rag_chain = create_retrieval_chain(retriever, question_answering_chain)"
      ]
    },
    {
      "cell_type": "code",
      "execution_count": 25,
      "metadata": {
        "id": "S4bzbTzbc47U"
      },
      "outputs": [],
      "source": [
        "response = rag_chain.invoke({\"input\":\"What is the primary purpose of the Indian Penal Code (IPC) as described in the document?\"})"
      ]
    },
    {
      "cell_type": "code",
      "execution_count": 26,
      "metadata": {
        "colab": {
          "base_uri": "https://localhost:8080/",
          "height": 70
        },
        "id": "IqcF3VDtcdKx",
        "outputId": "44516834-5c29-473a-e3b8-a77a9e703d98"
      },
      "outputs": [
        {
          "data": {
            "application/vnd.google.colaboratory.intrinsic+json": {
              "type": "string"
            },
            "text/plain": [
              "'The primary purpose of the Indian Penal Code (IPC) is to consolidate and define the substantive law of crimes in India. It provides a comprehensive framework for defining offenses, assigning punishments, and regulating the criminal justice system. The IPC serves as the foundational legislation for criminal law in India, ensuring consistency and uniformity in the application of criminal laws.'"
            ]
          },
          "execution_count": 26,
          "metadata": {},
          "output_type": "execute_result"
        }
      ],
      "source": [
        "response[\"answer\"]"
      ]
    },
    {
      "cell_type": "code",
      "execution_count": 27,
      "metadata": {
        "id": "O6ZWWO--eVN2"
      },
      "outputs": [],
      "source": [
        "from langchain.chains import create_history_aware_retriever"
      ]
    },
    {
      "cell_type": "code",
      "execution_count": 28,
      "metadata": {
        "id": "GFPcJnvNeVQV"
      },
      "outputs": [],
      "source": [
        "retriever_prompt = (\n",
        "    \"Given a chat history and the latest user question which might reference context in the chat history,\"\n",
        "    \"formulate a standalone question which can be understood without the chat history.\"\n",
        "    \"Do NOT answer the question, just reformulate it if needed and otherwise return it as is.\"\n",
        ")"
      ]
    },
    {
      "cell_type": "code",
      "execution_count": 29,
      "metadata": {
        "id": "E5PNQ0dAeVTl"
      },
      "outputs": [],
      "source": [
        "contextualize_q_prompt  = ChatPromptTemplate.from_messages(\n",
        "    [\n",
        "        (\"system\", retriever_prompt),\n",
        "        MessagesPlaceholder(variable_name=\"chat_history\"),\n",
        "        (\"human\", \"{input}\"),\n",
        "    ]\n",
        ")"
      ]
    },
    {
      "cell_type": "code",
      "execution_count": 30,
      "metadata": {
        "id": "Wx4ZOJjbVgGW"
      },
      "outputs": [],
      "source": [
        "history_aware_retriever = create_history_aware_retriever(model,retriever,contextualize_q_prompt)"
      ]
    },
    {
      "cell_type": "code",
      "execution_count": 31,
      "metadata": {
        "id": "f2469WC9hPjE"
      },
      "outputs": [],
      "source": [
        "from langchain.chains import create_retrieval_chain"
      ]
    },
    {
      "cell_type": "code",
      "execution_count": 32,
      "metadata": {
        "id": "RCXilswbhUZC"
      },
      "outputs": [],
      "source": [
        "from langchain.chains.combine_documents import create_stuff_documents_chain"
      ]
    },
    {
      "cell_type": "code",
      "execution_count": 33,
      "metadata": {
        "id": "3ZBRVbOvhUbU"
      },
      "outputs": [],
      "source": [
        "qa_prompt = ChatPromptTemplate.from_messages(\n",
        "    [\n",
        "        (\"system\", system_prompt),\n",
        "        MessagesPlaceholder(\"chat_history\"),\n",
        "        (\"human\", \"{input}\"),\n",
        "    ]\n",
        ")"
      ]
    },
    {
      "cell_type": "code",
      "execution_count": 34,
      "metadata": {
        "id": "Bn_wO5pWhUe0"
      },
      "outputs": [],
      "source": [
        "question_answer_chain = create_stuff_documents_chain(model, qa_prompt)"
      ]
    },
    {
      "cell_type": "code",
      "execution_count": 35,
      "metadata": {
        "id": "0UJCF_4ShZBo"
      },
      "outputs": [],
      "source": [
        "rag_chain = create_retrieval_chain(history_aware_retriever, question_answer_chain)"
      ]
    },
    {
      "cell_type": "code",
      "execution_count": 36,
      "metadata": {
        "id": "ODxJEYQ3hZEX"
      },
      "outputs": [],
      "source": [
        "from langchain_core.messages import HumanMessage, AIMessage"
      ]
    },
    {
      "cell_type": "code",
      "execution_count": 37,
      "metadata": {
        "id": "De57MGKShZHS"
      },
      "outputs": [],
      "source": [
        "chat_history = []"
      ]
    },
    {
      "cell_type": "code",
      "execution_count": 38,
      "metadata": {
        "id": "vfe3TFIdhZKz"
      },
      "outputs": [],
      "source": [
        "question1 = \"What does the Supreme Court's statement in Tolaram Relumal v. State of Bombay imply about penal provisions?\""
      ]
    },
    {
      "cell_type": "code",
      "execution_count": 40,
      "metadata": {
        "colab": {
          "base_uri": "https://localhost:8080/",
          "height": 0
        },
        "id": "RbBNYYs6iKKO",
        "outputId": "cb1eef57-99a5-4349-963c-0472beb729a7"
      },
      "outputs": [
        {
          "name": "stderr",
          "output_type": "stream",
          "text": [
            "WARNING:langchain_google_genai.chat_models:Retrying langchain_google_genai.chat_models._chat_with_retry.<locals>._chat_with_retry in 2.0 seconds as it raised InternalServerError: 500 An internal error has occurred. Please retry or report in https://developers.generativeai.google/guide/troubleshooting.\n"
          ]
        }
      ],
      "source": [
        "message1= rag_chain.invoke({\"input\": question1, \"chat_history\": chat_history})"
      ]
    },
    {
      "cell_type": "code",
      "execution_count": 41,
      "metadata": {
        "colab": {
          "base_uri": "https://localhost:8080/",
          "height": 53
        },
        "id": "T16XJexziKMr",
        "outputId": "898d7072-8f56-4869-9d4e-637e3a8c0aff"
      },
      "outputs": [
        {
          "data": {
            "application/vnd.google.colaboratory.intrinsic+json": {
              "type": "string"
            },
            "text/plain": [
              "'If a penal provision has multiple reasonable interpretations, the court should choose the interpretation that exempts the accused from punishment rather than the one that imposes it. \\n\\nThis principle ensures that penal provisions are not applied too broadly and that individuals are not punished for actions that were not clearly prohibited by law.'"
            ]
          },
          "execution_count": 41,
          "metadata": {},
          "output_type": "execute_result"
        }
      ],
      "source": [
        "message1[\"answer\"]"
      ]
    },
    {
      "cell_type": "code",
      "execution_count": 42,
      "metadata": {
        "id": "vObVSqxhiKP6"
      },
      "outputs": [],
      "source": [
        "chat_history.extend(\n",
        "    [\n",
        "        HumanMessage(content=question1),\n",
        "        AIMessage(content=message1[\"answer\"]),\n",
        "    ]\n",
        ")"
      ]
    },
    {
      "cell_type": "code",
      "execution_count": 43,
      "metadata": {
        "colab": {
          "base_uri": "https://localhost:8080/",
          "height": 0
        },
        "id": "xQKfm6smiKTX",
        "outputId": "e801e8a5-ca94-4b8e-ec76-049476767067"
      },
      "outputs": [
        {
          "data": {
            "text/plain": [
              "[HumanMessage(content=\"What does the Supreme Court's statement in Tolaram Relumal v. State of Bombay imply about penal provisions?\", additional_kwargs={}, response_metadata={}),\n",
              " AIMessage(content='If a penal provision has multiple reasonable interpretations, the court should choose the interpretation that exempts the accused from punishment rather than the one that imposes it. \\n\\nThis principle ensures that penal provisions are not applied too broadly and that individuals are not punished for actions that were not clearly prohibited by law.', additional_kwargs={}, response_metadata={})]"
            ]
          },
          "execution_count": 43,
          "metadata": {},
          "output_type": "execute_result"
        }
      ],
      "source": [
        "chat_history"
      ]
    },
    {
      "cell_type": "code",
      "execution_count": 44,
      "metadata": {
        "colab": {
          "base_uri": "https://localhost:8080/",
          "height": 0
        },
        "id": "CcYV5b7YiWrK",
        "outputId": "4d0af866-c11b-47cb-dc5c-7f6f4c4df24e"
      },
      "outputs": [
        {
          "name": "stdout",
          "output_type": "stream",
          "text": [
            "The principle of strict construction in penal law protects the rights of the accused by ensuring that penal statutes are interpreted narrowly and that individuals are not punished for actions that were not clearly prohibited by law.\n",
            "\n",
            "This principle is based on the idea that penal statutes are in derogation of common law rights and should therefore be construed strictly in favor of the accused. By requiring that penal statutes be clear and unambiguous, the principle of strict construction helps to prevent the arbitrary or oppressive application of criminal laws.\n",
            "\n",
            "In practice, the principle of strict construction means that courts will not interpret penal statutes to create new crimes or to expand the scope of existing crimes. Courts will also construe penal statutes in a way that avoids harsh or absurd results.\n",
            "\n",
            "For example, a court might interpret a statute that prohibits the possession of \"illegal drugs\" to apply only to drugs that are specifically listed in the statute, rather than to all drugs that are not specifically listed. This interpretation would protect the rights of individuals who possess drugs that are not specifically listed in the statute, even if those drugs are harmful or dangerous.\n",
            "\n",
            "The principle of strict construction is an important safeguard for the rights of the accused. It helps to ensure that individuals are not punished for actions that were not clearly prohibited by law, and that penal statutes are not applied in an arbitrary or oppressive manner.\n"
          ]
        }
      ],
      "source": [
        "second_question = \"How does the principle of strict construction in penal law protect the rights of the accused?\"\n",
        "message2 = rag_chain.invoke({\"input\": second_question, \"chat_history\": chat_history})\n",
        "\n",
        "print(message2[\"answer\"])"
      ]
    },
    {
      "cell_type": "code",
      "execution_count": 45,
      "metadata": {
        "colab": {
          "base_uri": "https://localhost:8080/",
          "height": 0
        },
        "id": "3ZrwIJNBjyD0",
        "outputId": "716f89be-9674-4101-c190-15bd82902a72"
      },
      "outputs": [
        {
          "name": "stdout",
          "output_type": "stream",
          "text": [
            "**Clear answer:**\n",
            "\n",
            "If a law that defines a crime is unclear, the court should interpret it in a way that favors the accused. This means that the court should choose the interpretation that does not punish the accused, even if it is not the most obvious interpretation.\n",
            "\n",
            "**Example:**\n",
            "\n",
            "Let's say there is a law that says it is illegal to \"steal.\" If someone takes an apple from a tree without the owner's permission, it is not clear whether this is \"stealing.\" The court should interpret the law in a way that favors the accused and rule that taking an apple from a tree is not stealing.\n",
            "\n",
            "This principle is important because it protects people from being punished for actions that they did not know were illegal.\n"
          ]
        }
      ],
      "source": [
        "second_question = \"Provide answer crearly not understanding\"\n",
        "message2 = rag_chain.invoke({\"input\": second_question, \"chat_history\": chat_history})\n",
        "\n",
        "print(message2[\"answer\"])"
      ]
    },
    {
      "cell_type": "code",
      "execution_count": 46,
      "metadata": {
        "id": "5OcPTOLdiWuw"
      },
      "outputs": [],
      "source": [
        "from langchain_community.chat_message_histories import ChatMessageHistory\n",
        "from langchain_core.chat_history import BaseChatMessageHistory\n",
        "from langchain_core.runnables.history import RunnableWithMessageHistory"
      ]
    },
    {
      "cell_type": "code",
      "execution_count": 47,
      "metadata": {
        "id": "ZgKvetmLkHcJ"
      },
      "outputs": [],
      "source": [
        "store = {}"
      ]
    },
    {
      "cell_type": "code",
      "execution_count": 48,
      "metadata": {
        "id": "Dg9mfml2kHep"
      },
      "outputs": [],
      "source": [
        "def get_session_history(session_id: str) -> BaseChatMessageHistory:\n",
        "    if session_id not in store:\n",
        "        store[session_id] = ChatMessageHistory()\n",
        "    return store[session_id]"
      ]
    },
    {
      "cell_type": "code",
      "execution_count": 49,
      "metadata": {
        "id": "FvB7TOrJkHhT"
      },
      "outputs": [],
      "source": [
        "conversational_rag_chain = RunnableWithMessageHistory(\n",
        "    rag_chain,\n",
        "    get_session_history,\n",
        "    input_messages_key=\"input\",\n",
        "    history_messages_key=\"chat_history\",\n",
        "    output_messages_key=\"answer\",\n",
        ")"
      ]
    },
    {
      "cell_type": "code",
      "execution_count": 50,
      "metadata": {
        "colab": {
          "base_uri": "https://localhost:8080/",
          "height": 90
        },
        "id": "tsJ1sGHwkHkC",
        "outputId": "61d1715b-bad8-4c13-ce29-cd10be4f0b9e"
      },
      "outputs": [
        {
          "name": "stderr",
          "output_type": "stream",
          "text": [
            "WARNING:langchain_google_genai.chat_models:Retrying langchain_google_genai.chat_models._chat_with_retry.<locals>._chat_with_retry in 2.0 seconds as it raised InternalServerError: 500 An internal error has occurred. Please retry or report in https://developers.generativeai.google/guide/troubleshooting.\n"
          ]
        },
        {
          "data": {
            "application/vnd.google.colaboratory.intrinsic+json": {
              "type": "string"
            },
            "text/plain": [
              "'Article 20(1) of the Constitution of India states that no law can make any act an offence with retrospective effect, and no law can impose greater sentence upon a person with retrospective effect.'"
            ]
          },
          "execution_count": 50,
          "metadata": {},
          "output_type": "execute_result"
        }
      ],
      "source": [
        "conversational_rag_chain.invoke(\n",
        "    {\"input\": \"What are the two limitations on legislative power outlined in Article 20(1) of the Constitution of India?\"},\n",
        "    config={\n",
        "        \"configurable\": {\"session_id\": \"abc123\"}\n",
        "    },  # constructs a key \"abc123\" in `store`.\n",
        ")[\"answer\"]"
      ]
    },
    {
      "cell_type": "code",
      "execution_count": 51,
      "metadata": {
        "colab": {
          "base_uri": "https://localhost:8080/",
          "height": 0
        },
        "id": "afMrOf79kHmk",
        "outputId": "7fcda635-db78-47ea-b6c4-1968a538a255"
      },
      "outputs": [
        {
          "data": {
            "text/plain": [
              "{'abc123': InMemoryChatMessageHistory(messages=[HumanMessage(content='What are the two limitations on legislative power outlined in Article 20(1) of the Constitution of India?', additional_kwargs={}, response_metadata={}), AIMessage(content='Article 20(1) of the Constitution of India states that no law can make any act an offence with retrospective effect, and no law can impose greater sentence upon a person with retrospective effect.', additional_kwargs={}, response_metadata={})])}"
            ]
          },
          "execution_count": 51,
          "metadata": {},
          "output_type": "execute_result"
        }
      ],
      "source": [
        "store"
      ]
    },
    {
      "cell_type": "code",
      "execution_count": 52,
      "metadata": {
        "colab": {
          "base_uri": "https://localhost:8080/",
          "height": 90
        },
        "id": "M60e59ItkHp4",
        "outputId": "bb3c5d16-4a3f-415a-8986-8b26060d81cc"
      },
      "outputs": [
        {
          "name": "stderr",
          "output_type": "stream",
          "text": [
            "WARNING:langchain_google_genai.chat_models:Retrying langchain_google_genai.chat_models._chat_with_retry.<locals>._chat_with_retry in 2.0 seconds as it raised InternalServerError: 500 An internal error has occurred. Please retry or report in https://developers.generativeai.google/guide/troubleshooting.\n",
            "WARNING:langchain_google_genai.chat_models:Retrying langchain_google_genai.chat_models._chat_with_retry.<locals>._chat_with_retry in 2.0 seconds as it raised InternalServerError: 500 An internal error has occurred. Please retry or report in https://developers.generativeai.google/guide/troubleshooting.\n"
          ]
        },
        {
          "data": {
            "application/vnd.google.colaboratory.intrinsic+json": {
              "type": "string"
            },
            "text/plain": [
              "'The provided context does not mention how the IPC addresses non-traditional and non-conventional crimes, so I cannot answer this question from the provided context.'"
            ]
          },
          "execution_count": 52,
          "metadata": {},
          "output_type": "execute_result"
        }
      ],
      "source": [
        "conversational_rag_chain.invoke(\n",
        "    {\"input\": \"In what ways does the IPC address non-traditional and non-conventional crimes?\"},\n",
        "    config={\"configurable\": {\"session_id\": \"abc123\"}},\n",
        ")[\"answer\"]"
      ]
    },
    {
      "cell_type": "code",
      "execution_count": 53,
      "metadata": {
        "colab": {
          "base_uri": "https://localhost:8080/",
          "height": 0
        },
        "id": "PHkP7JDUktsG",
        "outputId": "46489b02-1630-4508-f315-e2622efd806a"
      },
      "outputs": [
        {
          "name": "stdout",
          "output_type": "stream",
          "text": [
            "User: What are the two limitations on legislative power outlined in Article 20(1) of the Constitution of India?\n",
            "\n",
            "AI: Article 20(1) of the Constitution of India states that no law can make any act an offence with retrospective effect, and no law can impose greater sentence upon a person with retrospective effect.\n",
            "\n",
            "User: In what ways does the IPC address non-traditional and non-conventional crimes?\n",
            "\n",
            "AI: The provided context does not mention how the IPC addresses non-traditional and non-conventional crimes, so I cannot answer this question from the provided context.\n",
            "\n"
          ]
        }
      ],
      "source": [
        "for message in store[\"abc123\"].messages:\n",
        "    if isinstance(message, AIMessage):\n",
        "        prefix = \"AI\"\n",
        "    else:\n",
        "        prefix = \"User\"\n",
        "\n",
        "    print(f\"{prefix}: {message.content}\\n\")"
      ]
    },
    {
      "cell_type": "code",
      "execution_count": 54,
      "metadata": {
        "colab": {
          "base_uri": "https://localhost:8080/",
          "height": 142
        },
        "id": "W7-RIIenktvM",
        "outputId": "7d775036-812d-4e78-81f3-0df1b18b6c2b"
      },
      "outputs": [
        {
          "name": "stderr",
          "output_type": "stream",
          "text": [
            "WARNING:langchain_google_genai.chat_models:Retrying langchain_google_genai.chat_models._chat_with_retry.<locals>._chat_with_retry in 2.0 seconds as it raised InternalServerError: 500 An internal error has occurred. Please retry or report in https://developers.generativeai.google/guide/troubleshooting.\n"
          ]
        },
        {
          "data": {
            "application/vnd.google.colaboratory.intrinsic+json": {
              "type": "string"
            },
            "text/plain": [
              "\"Section 415 of the Indian Penal Code (IPC) defines cheating as dishonestly inducing a person to deliver any property or to do or omit to do anything which he would not do or omit to do if he were not so deceived. In simple terms, cheating means tricking someone into giving you something or doing something they wouldn't normally do if they knew the truth.\\n\\nFor example, if you pretend to be a police officer and tell someone to hand over their wallet, and they do so because they believe you are a real police officer, you have cheated them.\\n\\nCheating is a serious offence because it can cause people to lose money, property, or other valuable things. It can also damage people's trust in others.\\n\\nIf you are convicted of cheating, you could be punished with imprisonment for up to three years, or with a fine, or with both.\""
            ]
          },
          "execution_count": 54,
          "metadata": {},
          "output_type": "execute_result"
        }
      ],
      "source": [
        "conversational_rag_chain.invoke(\n",
        "    {\"input\": \"Section 415 of the IPC criminalizes cheating explain in detail in simple word child can understand\"},\n",
        "    config={\"configurable\": {\"session_id\": \"abc123\"}},\n",
        ")[\"answer\"]"
      ]
    },
    {
      "cell_type": "code",
      "execution_count": 55,
      "metadata": {
        "colab": {
          "base_uri": "https://localhost:8080/",
          "height": 0
        },
        "id": "nyrUJuSskxEO",
        "outputId": "a2f54b5c-2665-4b8b-cc34-05cbdb8fecd9"
      },
      "outputs": [
        {
          "data": {
            "text/plain": [
              "{'abc123': InMemoryChatMessageHistory(messages=[HumanMessage(content='What are the two limitations on legislative power outlined in Article 20(1) of the Constitution of India?', additional_kwargs={}, response_metadata={}), AIMessage(content='Article 20(1) of the Constitution of India states that no law can make any act an offence with retrospective effect, and no law can impose greater sentence upon a person with retrospective effect.', additional_kwargs={}, response_metadata={}), HumanMessage(content='In what ways does the IPC address non-traditional and non-conventional crimes?', additional_kwargs={}, response_metadata={}), AIMessage(content='The provided context does not mention how the IPC addresses non-traditional and non-conventional crimes, so I cannot answer this question from the provided context.', additional_kwargs={}, response_metadata={}), HumanMessage(content='Section 415 of the IPC criminalizes cheating explain in detail in simple word child can understand', additional_kwargs={}, response_metadata={}), AIMessage(content=\"Section 415 of the Indian Penal Code (IPC) defines cheating as dishonestly inducing a person to deliver any property or to do or omit to do anything which he would not do or omit to do if he were not so deceived. In simple terms, cheating means tricking someone into giving you something or doing something they wouldn't normally do if they knew the truth.\\n\\nFor example, if you pretend to be a police officer and tell someone to hand over their wallet, and they do so because they believe you are a real police officer, you have cheated them.\\n\\nCheating is a serious offence because it can cause people to lose money, property, or other valuable things. It can also damage people's trust in others.\\n\\nIf you are convicted of cheating, you could be punished with imprisonment for up to three years, or with a fine, or with both.\", additional_kwargs={}, response_metadata={})])}"
            ]
          },
          "execution_count": 55,
          "metadata": {},
          "output_type": "execute_result"
        }
      ],
      "source": [
        "store"
      ]
    },
    {
      "cell_type": "code",
      "execution_count": 56,
      "metadata": {
        "colab": {
          "base_uri": "https://localhost:8080/",
          "height": 0
        },
        "id": "jZrnxIUQkxHW",
        "outputId": "66ce2a66-3105-4982-ac58-530b90cee83f"
      },
      "outputs": [
        {
          "name": "stdout",
          "output_type": "stream",
          "text": [
            "User: What are the two limitations on legislative power outlined in Article 20(1) of the Constitution of India?\n",
            "\n",
            "AI: Article 20(1) of the Constitution of India states that no law can make any act an offence with retrospective effect, and no law can impose greater sentence upon a person with retrospective effect.\n",
            "\n",
            "User: In what ways does the IPC address non-traditional and non-conventional crimes?\n",
            "\n",
            "AI: The provided context does not mention how the IPC addresses non-traditional and non-conventional crimes, so I cannot answer this question from the provided context.\n",
            "\n",
            "User: Section 415 of the IPC criminalizes cheating explain in detail in simple word child can understand\n",
            "\n",
            "AI: Section 415 of the Indian Penal Code (IPC) defines cheating as dishonestly inducing a person to deliver any property or to do or omit to do anything which he would not do or omit to do if he were not so deceived. In simple terms, cheating means tricking someone into giving you something or doing something they wouldn't normally do if they knew the truth.\n",
            "\n",
            "For example, if you pretend to be a police officer and tell someone to hand over their wallet, and they do so because they believe you are a real police officer, you have cheated them.\n",
            "\n",
            "Cheating is a serious offence because it can cause people to lose money, property, or other valuable things. It can also damage people's trust in others.\n",
            "\n",
            "If you are convicted of cheating, you could be punished with imprisonment for up to three years, or with a fine, or with both.\n",
            "\n"
          ]
        }
      ],
      "source": [
        "for message in store[\"abc123\"].messages:\n",
        "    if isinstance(message, AIMessage):\n",
        "        prefix = \"AI\"\n",
        "    else:\n",
        "        prefix = \"User\"\n",
        "\n",
        "    print(f\"{prefix}: {message.content}\\n\")"
      ]
    },
    {
      "cell_type": "code",
      "execution_count": null,
      "metadata": {
        "id": "Sd7WfpJLrN92"
      },
      "outputs": [],
      "source": []
    }
  ],
  "metadata": {
    "colab": {
      "provenance": []
    },
    "kernelspec": {
      "display_name": "Python 3",
      "name": "python3"
    },
    "language_info": {
      "name": "python"
    }
  },
  "nbformat": 4,
  "nbformat_minor": 0
}
